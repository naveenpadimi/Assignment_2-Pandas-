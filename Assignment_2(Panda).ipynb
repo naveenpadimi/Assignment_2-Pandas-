{
  "nbformat": 4,
  "nbformat_minor": 0,
  "metadata": {
    "colab": {
      "provenance": []
    },
    "kernelspec": {
      "name": "python3",
      "display_name": "Python 3"
    },
    "language_info": {
      "name": "python"
    }
  },
  "cells": [
    {
      "cell_type": "code",
      "execution_count": null,
      "metadata": {
        "id": "qTcHZw3N4frD"
      },
      "outputs": [],
      "source": [
        "# Import the necessary libraries"
      ]
    },
    {
      "cell_type": "markdown",
      "source": [
        "Import the necessary libraries\n"
      ],
      "metadata": {
        "id": "oVGX_RRp4hLh"
      }
    },
    {
      "cell_type": "code",
      "source": [
        "import pandas as pd"
      ],
      "metadata": {
        "id": "S915Hg4G4lDo"
      },
      "execution_count": 1,
      "outputs": []
    },
    {
      "cell_type": "markdown",
      "source": [],
      "metadata": {
        "id": "yfW68aqK4gj5"
      }
    },
    {
      "cell_type": "code",
      "source": [
        "# # Import the dataset from this(https://raw.githubusercontent.com/justmarkham/DAT8/master/data/u.user).\n",
        "# Use sep= \"|\" while reading the data"
      ],
      "metadata": {
        "id": "g2rmVreG4sDY"
      },
      "execution_count": 2,
      "outputs": []
    },
    {
      "cell_type": "code",
      "source": [
        "url = 'https://raw.githubusercontent.com/justmarkham/DAT8/master/data/u.user'\n"
      ],
      "metadata": {
        "id": "MS0HtQss4yQ3"
      },
      "execution_count": 3,
      "outputs": []
    },
    {
      "cell_type": "code",
      "source": [
        "# Assign it to a variable called users and use the 'user_id' as index\n"
      ],
      "metadata": {
        "id": "bSqthj5F42aV"
      },
      "execution_count": null,
      "outputs": []
    },
    {
      "cell_type": "markdown",
      "source": [],
      "metadata": {
        "id": "uxjOWnf95Ihg"
      }
    },
    {
      "cell_type": "code",
      "source": [
        "users = pd.read_csv(url, sep='|', index_col='user_id')\n",
        "print(users)"
      ],
      "metadata": {
        "colab": {
          "base_uri": "https://localhost:8080/"
        },
        "id": "urR4Yo8x4-cI",
        "outputId": "f44cc329-47bc-4cb4-824e-7c64a0be41a3"
      },
      "execution_count": 5,
      "outputs": [
        {
          "output_type": "stream",
          "name": "stdout",
          "text": [
            "         age gender     occupation zip_code\n",
            "user_id                                    \n",
            "1         24      M     technician    85711\n",
            "2         53      F          other    94043\n",
            "3         23      M         writer    32067\n",
            "4         24      M     technician    43537\n",
            "5         33      F          other    15213\n",
            "...      ...    ...            ...      ...\n",
            "939       26      F        student    33319\n",
            "940       32      M  administrator    02215\n",
            "941       20      M        student    97229\n",
            "942       48      F      librarian    78209\n",
            "943       22      M        student    77841\n",
            "\n",
            "[943 rows x 4 columns]\n"
          ]
        }
      ]
    },
    {
      "cell_type": "markdown",
      "source": [
        "See the first 10 and last 10 entries\n"
      ],
      "metadata": {
        "id": "5snH0ny35P6v"
      }
    },
    {
      "cell_type": "code",
      "source": [
        "print(\"--------First 10 entries -------\")\n",
        "print(users.head(10))\n",
        "print(\"--------Last 10 entries -------\")\n",
        "print(users.tail(10))"
      ],
      "metadata": {
        "colab": {
          "base_uri": "https://localhost:8080/"
        },
        "id": "sNwGs0u45Ems",
        "outputId": "8ea78c96-40de-4271-c86e-071d09686142"
      },
      "execution_count": 6,
      "outputs": [
        {
          "output_type": "stream",
          "name": "stdout",
          "text": [
            "--------First 10 entries -------\n",
            "         age gender     occupation zip_code\n",
            "user_id                                    \n",
            "1         24      M     technician    85711\n",
            "2         53      F          other    94043\n",
            "3         23      M         writer    32067\n",
            "4         24      M     technician    43537\n",
            "5         33      F          other    15213\n",
            "6         42      M      executive    98101\n",
            "7         57      M  administrator    91344\n",
            "8         36      M  administrator    05201\n",
            "9         29      M        student    01002\n",
            "10        53      M         lawyer    90703\n",
            "--------Last 10 entries -------\n",
            "         age gender     occupation zip_code\n",
            "user_id                                    \n",
            "934       61      M       engineer    22902\n",
            "935       42      M         doctor    66221\n",
            "936       24      M          other    32789\n",
            "937       48      M       educator    98072\n",
            "938       38      F     technician    55038\n",
            "939       26      F        student    33319\n",
            "940       32      M  administrator    02215\n",
            "941       20      M        student    97229\n",
            "942       48      F      librarian    78209\n",
            "943       22      M        student    77841\n"
          ]
        }
      ]
    },
    {
      "cell_type": "markdown",
      "source": [
        "What is the number of observations in the dataset?"
      ],
      "metadata": {
        "id": "8dCvuEKV5Zqv"
      }
    },
    {
      "cell_type": "code",
      "source": [
        "print(\"Number of Observations : \", len(users))\n",
        "\n"
      ],
      "metadata": {
        "colab": {
          "base_uri": "https://localhost:8080/"
        },
        "id": "C5crEECk5fTI",
        "outputId": "e37c8d5a-c3d5-42ac-97a2-54e6b36f39f7"
      },
      "execution_count": 7,
      "outputs": [
        {
          "output_type": "stream",
          "name": "stdout",
          "text": [
            "Number of Observations :  943\n"
          ]
        }
      ]
    },
    {
      "cell_type": "markdown",
      "source": [
        "What is the number of columns in the dataset?\n"
      ],
      "metadata": {
        "id": "B0fQbjtN54Z_"
      }
    },
    {
      "cell_type": "code",
      "source": [
        "print(\"Number of Columns : \", len(users.columns))\n",
        "\n"
      ],
      "metadata": {
        "colab": {
          "base_uri": "https://localhost:8080/"
        },
        "id": "8N3WTZtF6BdQ",
        "outputId": "102cc7e9-3ab3-4082-a993-f290e2761943"
      },
      "execution_count": 8,
      "outputs": [
        {
          "output_type": "stream",
          "name": "stdout",
          "text": [
            "Number of Columns :  4\n"
          ]
        }
      ]
    },
    {
      "cell_type": "markdown",
      "source": [
        "Print the name of all the columns.\n"
      ],
      "metadata": {
        "id": "rFa-tiY26Jr_"
      }
    },
    {
      "cell_type": "code",
      "source": [
        "print(users.columns)\n",
        "\n"
      ],
      "metadata": {
        "colab": {
          "base_uri": "https://localhost:8080/"
        },
        "id": "Ai0YaI6l6N3O",
        "outputId": "b8141cde-2cac-4eba-c78c-175f17c9dabb"
      },
      "execution_count": 9,
      "outputs": [
        {
          "output_type": "stream",
          "name": "stdout",
          "text": [
            "Index(['age', 'gender', 'occupation', 'zip_code'], dtype='object')\n"
          ]
        }
      ]
    },
    {
      "cell_type": "markdown",
      "source": [
        "How is the dataset indexed?\n"
      ],
      "metadata": {
        "id": "bRm3Msgq6gaf"
      }
    },
    {
      "cell_type": "code",
      "source": [
        "print(users.index)\n",
        "\n"
      ],
      "metadata": {
        "colab": {
          "base_uri": "https://localhost:8080/"
        },
        "id": "t4QedZvi6hVI",
        "outputId": "30010a89-7976-46b9-ef95-f897002cdc31"
      },
      "execution_count": 10,
      "outputs": [
        {
          "output_type": "stream",
          "name": "stdout",
          "text": [
            "Int64Index([  1,   2,   3,   4,   5,   6,   7,   8,   9,  10,\n",
            "            ...\n",
            "            934, 935, 936, 937, 938, 939, 940, 941, 942, 943],\n",
            "           dtype='int64', name='user_id', length=943)\n"
          ]
        }
      ]
    },
    {
      "cell_type": "markdown",
      "source": [
        "What is the data type of each column?\n"
      ],
      "metadata": {
        "id": "n-WrZQiu6o-P"
      }
    },
    {
      "cell_type": "code",
      "source": [
        "print(users.info())\n",
        "\n"
      ],
      "metadata": {
        "colab": {
          "base_uri": "https://localhost:8080/"
        },
        "id": "HmDUStH-6tMf",
        "outputId": "ede7c32e-89ca-42bd-f5d2-7be8b9f5a977"
      },
      "execution_count": 11,
      "outputs": [
        {
          "output_type": "stream",
          "name": "stdout",
          "text": [
            "<class 'pandas.core.frame.DataFrame'>\n",
            "Int64Index: 943 entries, 1 to 943\n",
            "Data columns (total 4 columns):\n",
            " #   Column      Non-Null Count  Dtype \n",
            "---  ------      --------------  ----- \n",
            " 0   age         943 non-null    int64 \n",
            " 1   gender      943 non-null    object\n",
            " 2   occupation  943 non-null    object\n",
            " 3   zip_code    943 non-null    object\n",
            "dtypes: int64(1), object(3)\n",
            "memory usage: 36.8+ KB\n",
            "None\n"
          ]
        }
      ]
    },
    {
      "cell_type": "markdown",
      "source": [
        "Print only the occupation column\n"
      ],
      "metadata": {
        "id": "uZ7Z_CS163ge"
      }
    },
    {
      "cell_type": "code",
      "source": [
        "print(users['occupation'])\n",
        "\n"
      ],
      "metadata": {
        "colab": {
          "base_uri": "https://localhost:8080/"
        },
        "id": "_rRdsuMt64S2",
        "outputId": "141d754b-719d-4e41-cc56-fca6e3bdc122"
      },
      "execution_count": 12,
      "outputs": [
        {
          "output_type": "stream",
          "name": "stdout",
          "text": [
            "user_id\n",
            "1         technician\n",
            "2              other\n",
            "3             writer\n",
            "4         technician\n",
            "5              other\n",
            "           ...      \n",
            "939          student\n",
            "940    administrator\n",
            "941          student\n",
            "942        librarian\n",
            "943          student\n",
            "Name: occupation, Length: 943, dtype: object\n"
          ]
        }
      ]
    },
    {
      "cell_type": "markdown",
      "source": [
        "How many different occupations are in this dataset?\n"
      ],
      "metadata": {
        "id": "nW_U3uL568Z3"
      }
    },
    {
      "cell_type": "code",
      "source": [
        "print(users['occupation'].nunique())\n",
        "\n"
      ],
      "metadata": {
        "colab": {
          "base_uri": "https://localhost:8080/"
        },
        "id": "bglv1KPs6_yn",
        "outputId": "f68ae556-b57e-4fd0-ca5b-81ee9f499eea"
      },
      "execution_count": 13,
      "outputs": [
        {
          "output_type": "stream",
          "name": "stdout",
          "text": [
            "21\n"
          ]
        }
      ]
    },
    {
      "cell_type": "markdown",
      "source": [
        "What is the most frequent occupation?\n"
      ],
      "metadata": {
        "id": "uF3-o9Fv7Fwf"
      }
    },
    {
      "cell_type": "code",
      "source": [
        "print(users['occupation'].value_counts().idxmax())\n",
        "\n"
      ],
      "metadata": {
        "colab": {
          "base_uri": "https://localhost:8080/"
        },
        "id": "6FE-fpe27Gjf",
        "outputId": "7e9b4f99-d34a-45b1-90ea-8547e291d680"
      },
      "execution_count": 14,
      "outputs": [
        {
          "output_type": "stream",
          "name": "stdout",
          "text": [
            "student\n"
          ]
        }
      ]
    },
    {
      "cell_type": "markdown",
      "source": [
        "DataFrame Info.\n"
      ],
      "metadata": {
        "id": "oN-lmRWy7Vbu"
      }
    },
    {
      "cell_type": "markdown",
      "source": [
        "Describe all the columns\n"
      ],
      "metadata": {
        "id": "Ylt31jg-7fhe"
      }
    },
    {
      "cell_type": "code",
      "source": [
        "print(users.describe(include='all'))\n",
        "\n",
        "\n"
      ],
      "metadata": {
        "colab": {
          "base_uri": "https://localhost:8080/"
        },
        "id": "1tDFy4yZ7gGW",
        "outputId": "fde527c4-0455-4f00-b5e9-e3dcb30b81e6"
      },
      "execution_count": 18,
      "outputs": [
        {
          "output_type": "stream",
          "name": "stdout",
          "text": [
            "               age gender occupation zip_code\n",
            "count   943.000000    943        943      943\n",
            "unique         NaN      2         21      795\n",
            "top            NaN      M    student    55414\n",
            "freq           NaN    670        196        9\n",
            "mean     34.051962    NaN        NaN      NaN\n",
            "std      12.192740    NaN        NaN      NaN\n",
            "min       7.000000    NaN        NaN      NaN\n",
            "25%      25.000000    NaN        NaN      NaN\n",
            "50%      31.000000    NaN        NaN      NaN\n",
            "75%      43.000000    NaN        NaN      NaN\n",
            "max      73.000000    NaN        NaN      NaN\n"
          ]
        }
      ]
    },
    {
      "cell_type": "markdown",
      "source": [
        "Summarize only the occupation column\n"
      ],
      "metadata": {
        "id": "Ks3-5V817qvP"
      }
    },
    {
      "cell_type": "code",
      "source": [
        "print(users['occupation'].describe())\n",
        "\n"
      ],
      "metadata": {
        "colab": {
          "base_uri": "https://localhost:8080/"
        },
        "id": "bjfBmgIy7rpv",
        "outputId": "65817847-6ea2-4e76-f880-8493186ad41a"
      },
      "execution_count": 17,
      "outputs": [
        {
          "output_type": "stream",
          "name": "stdout",
          "text": [
            "count         943\n",
            "unique         21\n",
            "top       student\n",
            "freq          196\n",
            "Name: occupation, dtype: object\n"
          ]
        }
      ]
    },
    {
      "cell_type": "markdown",
      "source": [
        "What is the mean age of users?\n"
      ],
      "metadata": {
        "id": "mL5J971I8Ise"
      }
    },
    {
      "cell_type": "code",
      "source": [
        "print(users['age'].mean())\n",
        "\n"
      ],
      "metadata": {
        "colab": {
          "base_uri": "https://localhost:8080/"
        },
        "id": "zAm4eTZP8MWe",
        "outputId": "512562b9-71ef-4606-a7b7-7db4538fdd94"
      },
      "execution_count": 19,
      "outputs": [
        {
          "output_type": "stream",
          "name": "stdout",
          "text": [
            "34.05196182396607\n"
          ]
        }
      ]
    },
    {
      "cell_type": "markdown",
      "source": [
        "What is the age with least occurrence?\n"
      ],
      "metadata": {
        "id": "2AUwnb_l8UPX"
      }
    },
    {
      "cell_type": "code",
      "source": [
        "print(users['age'].value_counts().tail(1))\n",
        "\n",
        "\n",
        "\n",
        "\n"
      ],
      "metadata": {
        "colab": {
          "base_uri": "https://localhost:8080/"
        },
        "id": "p2DvGasU8VD_",
        "outputId": "8c300b2a-99ac-4117-b06d-18631c33129c"
      },
      "execution_count": 20,
      "outputs": [
        {
          "output_type": "stream",
          "name": "stdout",
          "text": [
            "73    1\n",
            "Name: age, dtype: int64\n"
          ]
        }
      ]
    }
  ]
}